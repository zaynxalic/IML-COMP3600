{
 "cells": [
  {
   "cell_type": "markdown",
   "metadata": {},
   "source": [
    "## COMP3670/6670 Programming Assignment 2 - Clustering and Vector Calculus\n",
    "---\n",
    "\n",
    "**Enter Your Student ID:**u6284513\n",
    "\n",
    "**Your Name:**Xuecheng Zhang\n",
    "    \n",
    "**Deadline:**\n",
    "\n",
    "**Submit:** Write your answers in this file, and submit a single Jupyter Notebook file (.ipynb) on Wattle. Rename this file with your student number as 'uXXXXXXX.ipynb'.\n",
    "\n",
    "**Enter Discussion Partner IDs Below:**\n",
    "You could add more IDs with the same markdown format above.\n",
    "\n",
    "u6548263 have a discussion about kmeans clusters\n",
    "\n",
    "**Programming Section**:\n",
    "- 1.1: 15%\n",
    "- 1.2: 20%\n",
    "- 2.1: 10%\n",
    "- 2.2: 15%\n",
    "- 2.3: 15%\n",
    "- 2.4: 10%\n",
    "- 2.5: 10%\n",
    "- 2.6: 5%"
   ]
  },
  {
   "cell_type": "code",
   "execution_count": 1,
   "metadata": {},
   "outputs": [
    {
     "name": "stderr",
     "output_type": "stream",
     "text": [
      "In D:\\Anaconda3\\lib\\site-packages\\matplotlib\\mpl-data\\stylelib\\_classic_test.mplstyle: \n",
      "The savefig.frameon rcparam was deprecated in Matplotlib 3.1 and will be removed in 3.3.\n",
      "In D:\\Anaconda3\\lib\\site-packages\\matplotlib\\mpl-data\\stylelib\\_classic_test.mplstyle: \n",
      "The verbose.level rcparam was deprecated in Matplotlib 3.1 and will be removed in 3.3.\n",
      "In D:\\Anaconda3\\lib\\site-packages\\matplotlib\\mpl-data\\stylelib\\_classic_test.mplstyle: \n",
      "The verbose.fileo rcparam was deprecated in Matplotlib 3.1 and will be removed in 3.3.\n"
     ]
    }
   ],
   "source": [
    "import numpy as np\n",
    "import matplotlib.pyplot as plt\n",
    "import math\n",
    "from IPython.core.display import HTML\n",
    "\n",
    "np.random.seed(1)\n"
   ]
  },
  {
   "cell_type": "markdown",
   "metadata": {},
   "source": [
    "## Task1: Vector Calculus \n",
    "-----------\n",
    "This part is about vector calculus. In this section, we will use the rigorous definition of the derivative to calculus it.\n",
    "$$ f'(a) = \\lim_{h \\to 0}\\dfrac{f(a + h) - f(a)}{h}$$\n",
    "Now, expand it to vectors.\n",
    "\n",
    "-----\n",
    "**Task 1.1:** Calculate the gradient of $f(\\textbf{x}) = \\textbf{x}^T\\textbf{a}$ respect to $\\textbf{x}$.     $\\textbf{x}, \\textbf{a} \\in \\mathbb{R}^N$"
   ]
  },
  {
   "cell_type": "code",
   "execution_count": 2,
   "metadata": {},
   "outputs": [],
   "source": [
    "N = 10\n",
    "x = np.random.rand(N)\n",
    "a = np.random.rand(N)"
   ]
  },
  {
   "cell_type": "code",
   "execution_count": 3,
   "metadata": {},
   "outputs": [
    {
     "name": "stdout",
     "output_type": "stream",
     "text": [
      "[0.41919451 0.6852195  0.20445225 0.87811744 0.02738759 0.67046751\n",
      " 0.4173048  0.55868983 0.14038694 0.19810149]\n"
     ]
    }
   ],
   "source": [
    "def derive_function1(x, a, N):\n",
    "    # The answer is a vector\n",
    "    # Please follow the rigorous defination of derivative to answer this question\n",
    "    # Directly return the conclusion from textbook will not receive any mark.\n",
    "    h = 1e-4\n",
    "    # Your Code Here\n",
    "    f_ = np.zeros(N)\n",
    "    for i in range(N):\n",
    "        x_ = np.copy(x)\n",
    "        x_[i] += h\n",
    "        f_[i] = (x_.T@a - x.T@a)/h\n",
    "    return f_\n",
    "\n",
    "print(derive_function1(x,a,N))"
   ]
  },
  {
   "cell_type": "markdown",
   "metadata": {},
   "source": [
    "-----\n",
    "**Task 1.2:** Calculate the gradient of $f(\\textbf{x}) = \\textbf{x}^TB\\textbf{x}$ respect to $\\textbf{x}$.     $\\textbf{x}\\in \\mathbb{R}^N, B\\in \\mathbb{R}^{N\\times N}$"
   ]
  },
  {
   "cell_type": "code",
   "execution_count": 4,
   "metadata": {},
   "outputs": [],
   "source": [
    "x = np.random.rand(N)\n",
    "B = np.random.rand(N, N)"
   ]
  },
  {
   "cell_type": "code",
   "execution_count": 6,
   "metadata": {},
   "outputs": [
    {
     "data": {
      "text/plain": [
       "array([5.56160613, 5.28063459, 4.80625273, 5.24104123, 5.08233073,\n",
       "       6.22523922, 6.71981275, 7.18584896, 4.74990033, 4.70465477])"
      ]
     },
     "execution_count": 6,
     "metadata": {},
     "output_type": "execute_result"
    }
   ],
   "source": [
    "def derive_function2(x, B, N):\n",
    "    # The answer is a vector\n",
    "    # Please follow the rigorous defination of derivative to answer this question\n",
    "    # Directly return the conclusion from textbook will not receive any mark.\n",
    "    \n",
    "    h = 1e-6\n",
    "    # Your Code Here\n",
    "    f_ = np.zeros(N)\n",
    "    for i in range(N):\n",
    "        x_ = np.copy(x)\n",
    "        x_[i] += h\n",
    "        f_[i] = (x_.T@B@x_ - x.T@B@x)/h\n",
    "    return f_\n",
    "\n",
    "derive_function2(x, B, N)"
   ]
  },
  {
   "cell_type": "markdown",
   "metadata": {},
   "source": [
    "## Task2: Clustering\n",
    "-----------\n",
    "These programming exercises will focus on K-means clustering. \n",
    "\n",
    "If you're unsure of how k-means works, read this very helpful and freely available online breakdown from Stanford's CS221 course; https://stanford.edu/~cpiech/cs221/handouts/kmeans.html\n",
    "\n",
    "This assignment requires you to loosely interpret how k-means is a specific case of a more general algorithm named Expectation Maximisation. This is explained toward the end of the above article.\n",
    "\n",
    "First, lets loading the dataset."
   ]
  },
  {
   "cell_type": "code",
   "execution_count": 17,
   "metadata": {},
   "outputs": [
    {
     "name": "stdout",
     "output_type": "stream",
     "text": [
      "(1000, 4)\n"
     ]
    },
    {
     "data": {
      "image/png": "[encoded data removed]",
      "text/plain": [
       "<Figure size 432x288 with 1 Axes>"
      ]
     },
     "metadata": {
      "needs_background": "light"
     },
     "output_type": "display_data"
    }
   ],
   "source": [
    "X = np.load(\"./data.npy\")\n",
    "plt.scatter(X[:,0], X[:,1])\n",
    "plt.show()"
   ]
  },
  {
   "cell_type": "markdown",
   "metadata": {},
   "source": [
    "The dataset contains 1000 4-dimensional samples. However, we don't know how many centroids it contains. The number of centroids is more than 5 but less than 10. We need to figure it out in the clustering procedure.\n",
    "\n",
    "-----\n",
    "\n",
    "K-means is a special, simple case of the Expectation Maximisation (EM) algorithm.\n",
    "\n",
    "This simplified EM (k-means), is divided into two steps.\n",
    "\n",
    "The **E-Step**, where for every sample in your dataset you find which \"centroid\" that datapoint is closest to that sample, and record that information.\n",
    "\n",
    "The **M-Step**, where you move each \"centroid\" to the center of the samples which were found to be closest to it in the **E-Step**.\n",
    "\n",
    "Each *centroid* is simply an estimated mean of a cluster. If you have $1$ centroid, then this centroid will become the mean of all your data.\n",
    "\n",
    "If each of your samples, such as the 400 you generated in the previous question, are of dimension $n$, then each of your centroids will be of dimension $n$.\n",
    "\n",
    "Centroids are initially random values, and the k-means algorithm attempts to modify them so that each one represents the center of a cluster.\n",
    "\n",
    "---\n",
    "\n",
    "**TASK 2.1:** Write a function $initialise\\_parameters(m, n, X) = C$ which generates $m$ centroids, each of dimension $n$, and stores them in a matrix $C \\in \\mathbb{R}^{m \\times n}$.\n",
    "\n",
    "No two centroids should be the same, and **must not** be hard coded. Generate these parameters using a sensible initialisation method such as those described in the first link below. You will be judged based on whether the method you choose is sensible and likely to result in kmeans converging to good result.\n",
    "\n",
    "---\n",
    "\n",
    "**HINT:** \n",
    "- https://en.wikipedia.org/wiki/K-means_clustering#Initialization_methods\n",
    "- https://docs.scipy.org/doc/numpy-1.15.1/reference/generated/numpy.random.randint.html"
   ]
  },
  {
   "cell_type": "code",
   "execution_count": 37,
   "metadata": {},
   "outputs": [
    {
     "name": "stdout",
     "output_type": "stream",
     "text": [
      "(1000, 4)\n",
      "8 4\n"
     ]
    }
   ],
   "source": [
    "def initialise_parameters(m, n, X):\n",
    "    \n",
    "    # Your Code Here\n",
    "    \n",
    "    '''\n",
    "    Reference from http://ilpubs.stanford.edu:8090/778/1/2006-13.pdf. \n",
    "    By using kmeans ++ (Farthest-point Traversal) algorithms to initialize the centeriods. The basic principle of KMeans algorithm in the initialization process \n",
    "    of clustering centers is to make the distance between the initial clustering centers as far as possible. \n",
    "    At first randomly select one point as a centeriod from these points. And then find another points which based on the possibility of \n",
    "    the distance to its nearest centroid. Therefore, in this way, the centeroids are chosen as far as possible to avoid existing two\n",
    "    centeriods close each other which may generate local minima. \n",
    "\n",
    "    '''\n",
    "    \n",
    "    # initialize the centeriod\n",
    "    C = np.empty((0,n))\n",
    "    size = np.shape(X.flatten())[0]\n",
    "    \n",
    "    # change the shape of X\n",
    "    X_ = np.copy(X).reshape((size//n,n))\n",
    "    row,col = X_.shape\n",
    "    #randomly choose a centeriod\n",
    "    index = np.random.randint(0,row-1)\n",
    "    first_centeriod = [X_[index]]\n",
    "    #add the first centeriod\n",
    "    C = np.append(C,first_centeriod,axis = 0)\n",
    "    \n",
    "    # set a list whose element is its index.\n",
    "    choseindex = []\n",
    "    for i in range(row):\n",
    "        choseindex.append(i)\n",
    "    print(X_.shape)\n",
    "    print(m,n)\n",
    "    while (C.shape[0]<m):\n",
    "        minidist = []\n",
    "        for point in X_:\n",
    "            tmpdistlist = []\n",
    "            for centeriod in C:\n",
    "                # get the euclidean distance\n",
    "                dist = ((point-centeriod).T @ (point-centeriod)) ** 0.5\n",
    "                tmpdistlist.append(dist)\n",
    "            # get the minimum list\n",
    "            minidist.append(np.min(tmpdistlist))\n",
    "        \n",
    "        # let D^2/ sumof(D^2) as the possibility, \n",
    "        #After experiments, when power of 8, the performance is morely like to be good\n",
    "        minidist = np.asarray(minidist)**2/np.sum(np.asarray(minidist)**2)\n",
    "        #chosing the value based on the probablity\n",
    "        maxValueindex = np.random.choice(np.asarray(choseindex),1,p=minidist)[0]\n",
    "\n",
    "        # chosing the value if the value is the maximum\n",
    "#         maxValueindex = np.argmax(minidist)\n",
    "        maxValue = [X_[maxValueindex]]\n",
    "        C = np.append(C,maxValue,axis=0)\n",
    "        \n",
    "    return C\n",
    "                                              \n",
    "C = initialise_parameters(8, 4, X)\n",
    "# print(C)"
   ]
  },
  {
   "cell_type": "markdown",
   "metadata": {},
   "source": [
    "Now we implement k-means.\n",
    "\n",
    "---\n",
    "   **TASK 2.2:** Create a function $E\\_step(C, X) = L$, where $L$ is a matrix of the same dimension of the dataset $X$.\n",
    "   \n",
    "   This function is is the **E-Step** (or \"assignment step\") mentioned earlier.\n",
    "\n",
    "---\n",
    "\n",
    "**HINT:** \n",
    "- https://stanford.edu/~cpiech/cs221/handouts/kmeans.html\n",
    "- https://en.wikipedia.org/wiki/K-means_clustering#Standard_algorithm\n",
    "- Each row of $L$ is a centroid taken from $C$."
   ]
  },
  {
   "cell_type": "code",
   "execution_count": 10,
   "metadata": {},
   "outputs": [
    {
     "data": {
      "image/png": "[encoded data removed]",
      "text/plain": [
       "<Figure size 432x288 with 1 Axes>"
      ]
     },
     "metadata": {
      "needs_background": "light"
     },
     "output_type": "display_data"
    }
   ],
   "source": [
    "def E_step(C, X):\n",
    "    L = np.zeros(X.shape)\n",
    "    # Your Code Here\n",
    "    row,col =  C.shape\n",
    "    for i in range(X.shape[0]):\n",
    "        minidist = []\n",
    "        for j in range(row):\n",
    "            minidist.append(((X[i]-C[j]).T@(X[i]-C[j]))**0.5)\n",
    "        minindex = np.argmin(minidist)\n",
    "        L[i] = C[minindex]\n",
    "    return L\n",
    "\n",
    "L = E_step(C, X)\n",
    "plt.scatter(L[:, 0], L[:, 1])\n",
    "plt.show()"
   ]
  },
  {
   "cell_type": "markdown",
   "metadata": {},
   "source": [
    "---\n",
    "\n",
    "**TASK 2.3:** Create a function $M\\_step(C, X, L) = C$ which returns $C$ modified so that each centroid in $C$ is placed in the middle of the samples assigned to it. This is the **M-Step**.\n",
    "\n",
    "In other words, make each centroid in $C$ the average of all the samples which were found to be closest to it during the **E-step**. This is also called the \"update step\" for K-means.\n",
    "\n",
    "---\n",
    "\n",
    "**HINT:** https://docs.scipy.org/doc/numpy/reference/generated/numpy.array_equal.html"
   ]
  },
  {
   "cell_type": "code",
   "execution_count": 38,
   "metadata": {},
   "outputs": [],
   "source": [
    "def M_step(C, X, L):\n",
    "    # Your Code Here\n",
    "    crow,ccol = C.shape\n",
    "    row,col = X.shape\n",
    "    C_copy = np.copy(C)\n",
    "    for i in range(crow):\n",
    "        centeriod = []\n",
    "        for j in range(row):\n",
    "            if(np.array_equal(L[j],C[i])):\n",
    "                 centeriod.append(X[j])\n",
    "        if(not np.array_equal(centeriod,[])):\n",
    "            C_copy[i] = np.mean(centeriod,axis = 0)\n",
    "        else:\n",
    "            print(\"??\")\n",
    "            \n",
    "    return C_copy\n",
    "    \n",
    "# print(M_step(C,X,L))"
   ]
  },
  {
   "cell_type": "markdown",
   "metadata": {},
   "source": [
    "---\n",
    "**TASK 2.4:** Implement $kmeans(X, m, i) = C, L$ which takes a dataset $X$ (of any dimension) and a scalar value $m$, and uses the previous 3 functions you wrote to:\n",
    "- generate $m$ centroids.\n",
    "- iterate between the E and M steps $i$ times (ie, it iterates $i$ times) to classify the $m$ clusters.\n",
    "\n",
    "...and then returns:\n",
    "- $C$, the centers of the $m$ clusters after $i$ iterations.\n",
    "- $L$, the labels (centroid values) assigned to each sample in the dataset after $i$ iterations.\n",
    "---"
   ]
  },
  {
   "cell_type": "code",
   "execution_count": 39,
   "metadata": {},
   "outputs": [
    {
     "name": "stdout",
     "output_type": "stream",
     "text": [
      "(1000, 4)\n",
      "8 4\n",
      "(array([[-2.97274970e-02,  6.28260595e-03,  7.24157559e-01,\n",
      "         7.23994810e-01],\n",
      "       [-1.64387449e-02,  5.52484171e-03, -1.37920430e+00,\n",
      "         1.25171462e+00],\n",
      "       [ 3.35804013e-01,  9.39820452e-02,  1.44641826e+00,\n",
      "         1.73716394e+00],\n",
      "       [ 1.80182894e-02, -2.84548382e-02, -1.73314207e+00,\n",
      "        -1.74422749e+00],\n",
      "       [-1.15362482e-03,  3.56500354e-02, -5.02332315e-01,\n",
      "        -7.41382419e-01],\n",
      "       [-2.30938038e-02,  1.71549863e-02,  1.76052530e+00,\n",
      "        -1.73716493e+00],\n",
      "       [-1.61647729e-02,  2.54639072e-02,  1.00871817e+00,\n",
      "        -7.26380789e-01],\n",
      "       [-1.99776880e-01, -2.73886203e-02,  1.52433126e+00,\n",
      "         1.76187827e+00]]), array([[-0.0297275 ,  0.00628261,  0.72415756,  0.72399481],\n",
      "       [-0.0297275 ,  0.00628261,  0.72415756,  0.72399481],\n",
      "       [-0.0297275 ,  0.00628261,  0.72415756,  0.72399481],\n",
      "       ...,\n",
      "       [-0.19977688, -0.02738862,  1.52433126,  1.76187827],\n",
      "       [-0.19977688, -0.02738862,  1.52433126,  1.76187827],\n",
      "       [ 0.33580401,  0.09398205,  1.44641826,  1.73716394]]))\n"
     ]
    }
   ],
   "source": [
    "def kmeans(X, m, i):\n",
    "    L = np.zeros(X.shape)\n",
    "    C = np.zeros((m, X.shape[1]))\n",
    "    # Your Code Here\n",
    "    \n",
    "    #intialize the centeriod\n",
    "    C = initialise_parameters(m,X.shape[1],X)\n",
    "    for j in range(i):\n",
    "        L = E_step(C,X)\n",
    "        C = M_step(C, X, L)\n",
    "\n",
    "    return C, L\n",
    "\n",
    "print(kmeans(X,8,10))"
   ]
  },
  {
   "cell_type": "markdown",
   "metadata": {},
   "source": [
    "---\n",
    "**Task 2.5:** The following code is to display the result. However, due to the limitation of our visualization tools, it can only presents the data in the two dimensional space. While the dimension of the dataset is 4, we really want to visualize the data in the two dimensional figure. Besides, the number of centroids is not determined yet.\n",
    "\n",
    "This task is ask you to modify the following code so as to give the best visualization effect. \n",
    "\n",
    "---\n",
    "**HINT:** You only need to change \"number of centroid\", \"dimension1\", \"dimension2\" to a number, which are quoted by \"#\" in the following code. "
   ]
  },
  {
   "cell_type": "code",
   "execution_count": 40,
   "metadata": {
    "scrolled": false
   },
   "outputs": [
    {
     "name": "stdout",
     "output_type": "stream",
     "text": [
      "(1000, 4)\n",
      "8 4\n",
      "Initial Parameters:\n",
      "[[-0.33844195  0.18747124  1.20084116  1.55208045]\n",
      " [ 0.350399   -0.29073998 -1.71783736 -1.87797617]\n",
      " [ 0.0248542  -0.11748591 -1.05403754  0.62724319]\n",
      " [-0.0566221  -0.34324065  2.03584656 -1.90541402]\n",
      " [ 0.17369286 -0.11479182  1.00221466 -0.84816899]\n",
      " [ 0.28271754 -0.29378564  1.84499892  1.91066952]\n",
      " [-0.31661972  0.07512326  1.54512301 -1.85590915]\n",
      " [-0.09078781 -0.60776254 -2.14070703  1.77783433]]\n",
      "\n",
      "Final Parameters:\n",
      "[[-2.05541611e-02 -2.94840798e-03 -7.34726213e-01  7.52580271e-01]\n",
      " [-3.12595827e-02  7.66544119e-03  7.32444784e-01  7.23499116e-01]\n",
      " [-2.30938038e-02  1.71549863e-02  1.76052530e+00 -1.73716493e+00]\n",
      " [ 1.80182894e-02 -2.84548382e-02 -1.73314207e+00 -1.74422749e+00]\n",
      " [-1.08975530e-02  1.26213183e-02 -2.01514271e+00  1.74712290e+00]\n",
      " [-1.61647729e-02  2.54639072e-02  1.00871817e+00 -7.26380789e-01]\n",
      " [-2.68311120e-03  1.72757846e-02  1.49565927e+00  1.75278340e+00]\n",
      " [-1.15362482e-03  3.56500354e-02 -5.02332315e-01 -7.41382419e-01]]\n"
     ]
    },
    {
     "data": {
      "image/png": "[encoded data removed]",
      "text/plain": [
       "<Figure size 432x288 with 1 Axes>"
      ]
     },
     "metadata": {
      "needs_background": "light"
     },
     "output_type": "display_data"
    }
   ],
   "source": [
    "m = 8\n",
    "i = 100\n",
    "#CODE TO DISPLAY YOUR RESULTS.\n",
    "C_final, L_final = kmeans(X, m, i)\n",
    "print('Initial Parameters:')\n",
    "print(C)\n",
    "print('\\nFinal Parameters:')\n",
    "print(C_final)\n",
    "\n",
    "def allocator(X, L, c):\n",
    "    cluster = []\n",
    "    for i in range(L.shape[0]):\n",
    "        if np.array_equal(L[i, :], c):\n",
    "            cluster.append(X[i, :])\n",
    "    return np.asarray(cluster)\n",
    "\n",
    "colours = ['r', 'g', 'b', 'y', 'c', 'm', 'k', 'lime', 'wheat', 'fuchsia', 'pink']\n",
    "for i in range(m):\n",
    "    cluster = allocator(X, L_final, C_final[i, :])\n",
    "    plt.scatter(cluster[:,2], \n",
    "                cluster[:,3], \n",
    "                c=colours[i])\n",
    "plt.show()"
   ]
  },
  {
   "cell_type": "markdown",
   "metadata": {},
   "source": [
    "---\n",
    "**TASK 2.6:** Use your own words to explain how you found the number of centroids in Task 2.5 and how you might do this in the real world.\n",
    "\n",
    "---"
   ]
  },
  {
   "cell_type": "markdown",
   "metadata": {},
   "source": [
    "The main principle of finding the number of centeriods is based on the inner distance between the same cluster. If the distance is very small, it indicates that the cluster may separate too many data points and data originally belonging to the same category is divided. If the distance is too large, it indicates that the data may not sufficiently divided and the data should be in the same category but not in one category. Therefore, it is predominant to find the right inner distance between the same cluster. \n",
    "\n",
    "By observing the graphic, I find that when n = 8 can generate the best performance/results and the Inertia is neither too large or big.\n",
    "\n",
    "In the real world, to find the right inner distance, we have to draw the Inertia graph. The value of inertia decreases as the number of clusters increase. So, its a trade-off. The elbow point in the inertia graph is a good choice because after that point the change in the value of inertia is not significant. e.g. in the below graph, we are picking n=8 as n=8 is the elbow point of the whole graph."
   ]
  },
  {
   "cell_type": "code",
   "execution_count": 12,
   "metadata": {},
   "outputs": [
    {
     "data": {
      "image/png": "[encoded data removed]",
      "text/plain": [
       "<Figure size 432x288 with 1 Axes>"
      ]
     },
     "metadata": {
      "needs_background": "light"
     },
     "output_type": "display_data"
    }
   ],
   "source": [
    "#calculate the euclidean difference between the clustering centers and points\n",
    "def trainingloss(X,i):\n",
    "    row,col = X.shape\n",
    "    loss = 0\n",
    "    _,L = kmeans(X,i,100)\n",
    "    return np.linalg.norm(X-L)**2\n",
    "    \n",
    "plt.xlabel(\"number of clusters\")\n",
    "plt.ylabel(\"training loss\")\n",
    "\n",
    "start = 1\n",
    "end = 11\n",
    "ind_col = np.arange(start,end)\n",
    "train_col = np.zeros((end-start,))\n",
    "for i in range(start,end):\n",
    "    train_col[i-start] = trainingloss(X,i)\n",
    "    \n",
    "plt.plot(ind_col,train_col,color='green')\n",
    "    \n",
    "plt.show()"
   ]
  },
  {
   "cell_type": "code",
   "execution_count": 27,
   "metadata": {},
   "outputs": [
    {
     "data": {
      "text/plain": [
       "array([ 0,  1,  2,  3,  4,  5,  6,  7,  8,  9, 10, 11, 12, 13, 14])"
      ]
     },
     "execution_count": 27,
     "metadata": {},
     "output_type": "execute_result"
    }
   ],
   "source": [
    "np.arange(15)"
   ]
  },
  {
   "cell_type": "code",
   "execution_count": 33,
   "metadata": {},
   "outputs": [
    {
     "name": "stdout",
     "output_type": "stream",
     "text": [
      "6.179999945743475e-05\n"
     ]
    }
   ],
   "source": [
    "import time\n",
    "start = time.perf_counter()\n",
    "np.arange(1000)\n",
    "end = time.perf_counter()\n",
    "print (end-start)"
   ]
  },
  {
   "cell_type": "code",
   "execution_count": 34,
   "metadata": {},
   "outputs": [
    {
     "name": "stdout",
     "output_type": "stream",
     "text": [
      "0.0003352999992785044\n"
     ]
    }
   ],
   "source": [
    "start = time.perf_counter()\n",
    "np.array([i for i in range(1000)])\n",
    "end = time.perf_counter()\n",
    "print (end-start)"
   ]
  },
  {
   "cell_type": "code",
   "execution_count": null,
   "metadata": {},
   "outputs": [],
   "source": []
  }
 ],
 "metadata": {
  "kernelspec": {
   "display_name": "Python 3",
   "language": "python",
   "name": "python3"
  },
  "language_info": {
   "codemirror_mode": {
    "name": "ipython",
    "version": 3
   },
   "file_extension": ".py",
   "mimetype": "text/x-python",
   "name": "python",
   "nbconvert_exporter": "python",
   "pygments_lexer": "ipython3",
   "version": "3.7.2"
  }
 },
 "nbformat": 4,
 "nbformat_minor": 2
}
