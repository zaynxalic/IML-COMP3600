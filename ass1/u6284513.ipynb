{
 "cells": [
  {
   "cell_type": "markdown",
   "metadata": {},
   "source": [
    "## COMP3670 Programming Assignment 1 - Linear Algebra and Analytic Geometry\n",
    "---\n",
    "\n",
    "**Enter Your Student ID:** u6284513\n",
    "\n",
    "**Your Name:** Xuecheng Zhang \n",
    "    \n",
    "**Deadline:**\n",
    "\n",
    "**Submit:** Write your answers in this file, and submit a single Jupyter Notebook file (.ipynb) on Wattle. Rename this file with your student number as 'uXXXXXXX.ipynb'.\n",
    "\n",
    "**Enter Discussion Partner IDs Below:**\n",
    "You could add more IDs with the same markdown format above.\n",
    "\n",
    "u6548263 on Task 2 RREF\n",
    "\n",
    "---\n",
    "**Marking distribution for the homework/assignment**\n",
    "\n",
    "- Task1 = 10%\n",
    "- Task2 = 40%\n",
    "- Task3 = 10%\n",
    "- Task4 = 40%"
   ]
  },
  {
   "cell_type": "markdown",
   "metadata": {},
   "source": [
    "## Task 0: Introduction\n",
    "---\n",
    "\n",
    "**NOTE:** *This part of the first assignment is by necessity somewhat tedious as its primary purpose is to introduce syntax, how to access and understand the Numpy documentation and some very basic concepts. If you are already familiar with Numpy, you can just read the **TASK** headings and complete the questions without worrying about all the additional information. This is designed for people who have never seen Numpy before, so it's a very easy 1st year style introduction to just introduce syntax.*\n",
    "\n",
    "*As this is a third year subject, it is assumed you already know to to program well (but may be unfamiliar with Python and Numpy).*\n",
    "\n",
    "---\n",
    "\n",
    "Arguably the most fundamental tool needed to engage with machine learning in Python is Numpy *(np)*. To include Numpy in any project, simply type the following line at the top of your python file:"
   ]
  },
  {
   "cell_type": "code",
   "execution_count": 1,
   "metadata": {},
   "outputs": [
    {
     "name": "stdout",
     "output_type": "stream",
     "text": [
      "Looking in indexes: http://mirrors.aliyun.com/pypi/simple/\n",
      "Requirement already satisfied: sympy in d:\\anaconda3\\lib\\site-packages (1.3)\n"
     ]
    },
    {
     "name": "stderr",
     "output_type": "stream",
     "text": [
      "In D:\\Anaconda3\\lib\\site-packages\\matplotlib\\mpl-data\\stylelib\\_classic_test.mplstyle: \n",
      "The savefig.frameon rcparam was deprecated in Matplotlib 3.1 and will be removed in 3.3.\n",
      "In D:\\Anaconda3\\lib\\site-packages\\matplotlib\\mpl-data\\stylelib\\_classic_test.mplstyle: \n",
      "The verbose.level rcparam was deprecated in Matplotlib 3.1 and will be removed in 3.3.\n",
      "In D:\\Anaconda3\\lib\\site-packages\\matplotlib\\mpl-data\\stylelib\\_classic_test.mplstyle: \n",
      "The verbose.fileo rcparam was deprecated in Matplotlib 3.1 and will be removed in 3.3.\n"
     ]
    }
   ],
   "source": [
    "# numpy\n",
    "import numpy as np\n",
    "\n",
    "\n",
    "!pip install sympy\n",
    "import sympy as sp\n",
    "\n",
    "# display\n",
    "from IPython.core.display import HTML\n",
    "\n",
    "# matplotlib\n",
    "import matplotlib.pyplot as plt\n",
    "%matplotlib inline"
   ]
  },
  {
   "cell_type": "code",
   "execution_count": 3,
   "metadata": {},
   "outputs": [
    {
     "name": "stdout",
     "output_type": "stream",
     "text": [
      "Done\n"
     ]
    }
   ],
   "source": [
    "# check if numpy can be imported\n",
    "import numpy as np\n",
    "\n",
    "print('Done')"
   ]
  },
  {
   "cell_type": "markdown",
   "metadata": {},
   "source": [
    "A Jupyter Notebook is divided into cells, each of which works like a Python module or Latex file. When a cell is run, any cells that follow it will have access to its results. Running the above cell will give all following cells access to the Numpy library.\n",
    "\n",
    "-----------\n",
    "\n",
    "   **TASK 0.1:** To run the above cell, select it by clicking on it, hold **shift** and press **return**. If you have succeeded, then the cell will print \"Done\" just above.\n",
    "\n",
    "\n",
    "-----------\n",
    "\n",
    "Numpy is a library of common mathematical data structures and algorithms used in machine learning. For example:\n",
    "\n",
    "- It allows you to declare vectors and matrices, with all the associated mathematical operations like matrix vector products, matrix addition / subtraction.\n",
    "- It provides convenient, efficient implementations of algorithms to solve matrix equations, find the inverse of a matrix or perform Eigen decomposition. The implementation of these algorithms is compiled from C code, making Numpy much faster than programming these algorithms yourself in Python.\n",
    "\n",
    "You'll need to know Numpy inside and out. We'll start by getting you familiar with the easy to access online documentation and performing a few basic operations.\n",
    "\n",
    "Below I have declared the matrices: \n",
    "\n",
    "$$A = \n",
    "\\begin{bmatrix}\n",
    "2&3\\\\\n",
    "0&1\\\\\n",
    "\\end{bmatrix}\n",
    "\\\\\n",
    "x = \n",
    "\\begin{bmatrix}\n",
    "1\\\\\n",
    "3\\\\\n",
    "\\end{bmatrix}\n",
    "$$. \n",
    "\n",
    "---\n",
    "**TASK 0.2:** Run the cell below and observe what it prints.\n",
    "\n",
    "\n",
    "---\n",
    "(If it throws an error, you have the wrong version of python installed. This entire course will use Python 3, not Python 2)\n",
    "\n"
   ]
  },
  {
   "cell_type": "code",
   "execution_count": 4,
   "metadata": {},
   "outputs": [
    {
     "name": "stdout",
     "output_type": "stream",
     "text": [
      "\n",
      "Matrix Multiplication\n",
      "[[11]\n",
      " [ 3]]\n"
     ]
    }
   ],
   "source": [
    "A = np.array([[2, 3], [0, 1]])\n",
    "x = np.array([[1], [3]])\n",
    "\n",
    "#Matrix Multiplication Example\n",
    "b = A @ x\n",
    "print('\\nMatrix Multiplication')\n",
    "print(b)"
   ]
  },
  {
   "cell_type": "markdown",
   "metadata": {},
   "source": [
    "The above code illustrates how to perform matrix multiplication. Memorise it. Below are some other basic operations you'll likely need over the coming semester:"
   ]
  },
  {
   "cell_type": "code",
   "execution_count": 5,
   "metadata": {},
   "outputs": [
    {
     "name": "stdout",
     "output_type": "stream",
     "text": [
      "\n",
      "Matrix Addition\n",
      "[[3 4]\n",
      " [3 4]]\n",
      "\n",
      "Elementwise Matrix Multiplication\n",
      "[[2 3]\n",
      " [0 3]]\n",
      "\n",
      "Single Element Extraction\n",
      "2\n",
      "\n",
      "Column Extraction\n",
      "[2 0]\n",
      "\n",
      "Row Extraction\n",
      "[2 3]\n",
      "\n",
      "Transpose\n",
      "[[2 0]\n",
      " [3 1]]\n"
     ]
    }
   ],
   "source": [
    "#Matrix Addition Example\n",
    "b = A + x\n",
    "print('\\nMatrix Addition')\n",
    "print(b)\n",
    "\n",
    "#Elementwise Multiplication Example\n",
    "b = A * x\n",
    "print('\\nElementwise Matrix Multiplication')\n",
    "print(b)\n",
    "\n",
    "#Extract a single element of a matrix:\n",
    "print('\\nSingle Element Extraction')\n",
    "b = A[0, 0]\n",
    "print(b)\n",
    "\n",
    "#Extract an entire column of a matrix:\n",
    "print('\\nColumn Extraction')\n",
    "b = A[:, 0]\n",
    "print(b)\n",
    "\n",
    "#Extract an entire row of a matrix:\n",
    "print('\\nRow Extraction')\n",
    "b = A[0, :]\n",
    "print(b)\n",
    "\n",
    "#Transpose of a matrix:\n",
    "print('\\nTranspose')\n",
    "A_Transpose = A.T\n",
    "print(A_Transpose)"
   ]
  },
  {
   "cell_type": "markdown",
   "metadata": {},
   "source": [
    "## Task1: Solving a system of linear equations\n",
    "---\n",
    "\n",
    "A vital part of linear algebra is to know how to solve a system of linear equations. For e.g. \n",
    "\n",
    "$$a_{11}x_1+a_{12}x_2 \\dots a_{1d}x_d=b_1$$\n",
    "$$a_{21}x_1+a_{22}x_2 \\dots a_{2d}x_d=b_2$$\n",
    "$$\\vdots$$\n",
    "$$a_{n1}x_1+a_{n2}x_2 \\dots a_{nd}x_d=b_n$$\n",
    "\n",
    "The above system of linear equations can also be written down in a compact matrix form as follows:\n",
    "\n",
    "$$AX = B$$\n",
    "\n",
    "where,\n",
    "$$A = \\begin{bmatrix}\n",
    "a_{11} & \\dots & a_{1d}\\\\\n",
    "\\vdots & \\ddots & \\vdots \\\\\n",
    "a_{n1} & \\dots & a_{nd}\n",
    "\\end{bmatrix}, \\quad\n",
    "B = \\begin{bmatrix}\n",
    "b_1 \\\\ \\vdots \\\\ b_n\n",
    "\\end{bmatrix}, \\quad\n",
    "X = \\begin{bmatrix}\n",
    "x_1 \\\\ \\vdots \\\\ x_d\n",
    "\\end{bmatrix}.\n",
    "$$"
   ]
  },
  {
   "cell_type": "markdown",
   "metadata": {},
   "source": [
    "---\n",
    "**Task 1.1**: Use numpy's solve function to compute X\n",
    "\n",
    "---\n",
    "**HINT**: https://docs.scipy.org/doc/numpy/reference/generated/numpy.linalg.solve.html"
   ]
  },
  {
   "cell_type": "code",
   "execution_count": 6,
   "metadata": {},
   "outputs": [
    {
     "name": "stdout",
     "output_type": "stream",
     "text": [
      "[[-6.]\n",
      " [ 5.]]\n"
     ]
    }
   ],
   "source": [
    "# define A,B\n",
    "A = np.array([[2, 3], [0, 1]])\n",
    "B = np.array([[3], [5]])\n",
    "\n",
    "def solve_with_numpy(A,B):\n",
    "    ## YOUR CODE HERE\n",
    "    X = np.linalg.solve(A,B)\n",
    "    return X\n",
    "    \n",
    "\n",
    "# show solution\n",
    "X = solve_with_numpy(A,B)\n",
    "print (X)\n"
   ]
  },
  {
   "cell_type": "markdown",
   "metadata": {},
   "source": [
    "A more hands on way for solving for X, involves computing first computing the inverse of the matrix $A$\n",
    "\n",
    "---\n",
    "**Task 1.2**: Use numpy's inbuilt method for computing the inverse of the matrix $A$\n",
    "\n",
    "---\n",
    "\n",
    "**HINT**: https://docs.scipy.org/doc/numpy/reference/generated/numpy.linalg.inv.html"
   ]
  },
  {
   "cell_type": "code",
   "execution_count": 7,
   "metadata": {},
   "outputs": [
    {
     "data": {
      "text/html": [
       "<div class=\"alert alert-block alert-success\">The inverse matrix looks good</div>"
      ],
      "text/plain": [
       "<IPython.core.display.HTML object>"
      ]
     },
     "execution_count": 7,
     "metadata": {},
     "output_type": "execute_result"
    }
   ],
   "source": [
    "A = np.array([[2, 3], [0, 1]])\n",
    "\n",
    "A_inv = np.linalg.inv(A) #YOUR CODE HERE\n",
    "\n",
    "# check if A * A_inv = I\n",
    "assert A_inv is not None,\"Inverse not implemented!\"\n",
    "assert np.all(A@A_inv == np.eye(A.shape[0])),\"Inverse seems incorrect\"\n",
    "HTML('<div class=\"alert alert-block alert-success\">The inverse matrix looks good</div>')"
   ]
  },
  {
   "cell_type": "markdown",
   "metadata": {},
   "source": [
    "---\n",
    "**Task 1.3**: Use the inverse of matrix $A$, to solve for $X$\n",
    "\n",
    "---"
   ]
  },
  {
   "cell_type": "code",
   "execution_count": 8,
   "metadata": {},
   "outputs": [
    {
     "name": "stdout",
     "output_type": "stream",
     "text": [
      "[[-6.]\n",
      " [ 5.]]\n"
     ]
    },
    {
     "data": {
      "text/plain": [
       "array([[61.]])"
      ]
     },
     "execution_count": 8,
     "metadata": {},
     "output_type": "execute_result"
    }
   ],
   "source": [
    "A = np.array([[2, 3], [0, 1]])\n",
    "B = np.array([[3], [5]])\n",
    "\n",
    "# YOUR CODE HERE\n",
    "X = np.linalg.inv(A) @B\n",
    "\n",
    "print(X)\n",
    "X.T @ X"
   ]
  },
  {
   "cell_type": "markdown",
   "metadata": {},
   "source": [
    "But what if $A$ is not a square matrix?\n",
    "\n",
    "---\n",
    "**Task 1.4**: Compute the Moore-Penrose pseudo inverse for matrix $A$ and use it for computing $X$. Note that, you must not directly use `np.linalg.pinv` for computing the pseudo-inverse.\n",
    "\n",
    "---\n",
    "\n",
    "**HINT**: https://en.wikipedia.org/wiki/Moore–Penrose_inverse"
   ]
  },
  {
   "cell_type": "code",
   "execution_count": 8,
   "metadata": {},
   "outputs": [
    {
     "name": "stdout",
     "output_type": "stream",
     "text": [
      "[[-0.00544323 -0.02799378  0.21228616]\n",
      " [ 0.05287714  0.12908243 -0.0622084 ]]\n"
     ]
    },
    {
     "data": {
      "text/html": [
       "<div class=\"alert alert-block alert-success\">The inverse matrix looks good</div>"
      ],
      "text/plain": [
       "<IPython.core.display.HTML object>"
      ]
     },
     "execution_count": 8,
     "metadata": {},
     "output_type": "execute_result"
    }
   ],
   "source": [
    "A = np.array([[1, 3], [2, 7], [5, 1]])\n",
    "B = np.array([[13], [30], [9]])\n",
    "\n",
    "# (A^T* A)^-1 * A^T\n",
    "A_pseudo_inverse = np.linalg.inv(A.T @A)@A.T#YOUR CODE HERE\n",
    "print(A_pseudo_inverse)\n",
    "X =  A_pseudo_inverse @ B #YOUR CODE HERE\n",
    "\n",
    "# check if everything is good\n",
    "assert A_pseudo_inverse is not None,\"Inverse not implemented!\"\n",
    "assert X is not None,\"X not solved!\"\n",
    "assert np.sum(abs(A_pseudo_inverse - np.linalg.pinv(A)))<1e-6,\"Pseudo inverse seems incorrect\"\n",
    "assert np.sum(abs(X-np.linalg.lstsq(A,B,rcond=None)[0]))<1e-6,\"X seems incorrect\"\n",
    "HTML('<div class=\"alert alert-block alert-success\">The inverse matrix looks good</div>')"
   ]
  },
  {
   "cell_type": "markdown",
   "metadata": {},
   "source": [
    "## Task 2: Computing inverse of a matrix using Gauss–Jordan elimination\n",
    "\n",
    "---\n",
    "In the last task, we used numpy's inbulit functions to compute the inverse of the matrix $A$. Lets see how it is done without using numpy!\n",
    "\n",
    "So we want to find the matrix $A^{-1}$ such that:\n",
    "\n",
    "$$A A^{-1} = I$$\n",
    "\n",
    "This can be done by performing row operations on the matrix $A$, to get an identity matrix while at the same time performing similar row operations on the identity matrix on the right hand side. \n",
    "\n",
    "Read more: https://en.wikipedia.org/wiki/Gaussian_elimination#Finding_the_inverse_of_a_matrix"
   ]
  },
  {
   "cell_type": "markdown",
   "metadata": {},
   "source": [
    "But, first lets practice Gaussian elimination!\n",
    "\n",
    "---\n",
    "**Task 2.1**:  Complete the following gaussian elimnation function to compute the reduced row-echelon form of matrix $A$. You must implement the gaussian elimination algorithm yourself, not merely call someone elses library function.\n",
    "\n",
    "---\n",
    "\n",
    "**HINT:** https://en.wikipedia.org/wiki/Gaussian_elimination"
   ]
  },
  {
   "cell_type": "code",
   "execution_count": 8,
   "metadata": {},
   "outputs": [
    {
     "name": "stdout",
     "output_type": "stream",
     "text": [
      "[[ 1  3  0]\n",
      " [ 0  0  2]\n",
      " [ 2 -2 -1]]\n",
      "[[ 1  3  0]\n",
      " [ 0  0  2]\n",
      " [ 0 -8 -1]]\n",
      "[[1 0 0]\n",
      " [0 1 0]\n",
      " [0 0 2]]\n",
      "[[1 0 0]\n",
      " [0 1 0]\n",
      " [0 0 2]]\n",
      "[[1 0 0]\n",
      " [0 1 0]\n",
      " [0 0 1]]\n",
      "[[1 0 0]\n",
      " [0 1 0]\n",
      " [0 0 1]]\n",
      "[[1 0 0]\n",
      " [0 1 0]\n",
      " [0 0 1]]\n"
     ]
    }
   ],
   "source": [
    "A = np.array([\n",
    "    [4,12,2],\n",
    "    [4,12,2],\n",
    "    [2,-2,-1]\n",
    "])\n",
    "      \n",
    "def gaussian_elim(A):\n",
    "    row,col = A.shape\n",
    "    # YOUR CODE HERE\n",
    "    dim = min(row,col)\n",
    "    for i in range(col):\n",
    "        # if [i,i,] equal to 0\n",
    "        if (i <dim):\n",
    "            if (A[i,i] == 0):\n",
    "                for j in range(i+1,row):\n",
    "                    if (not A[j,i] == 0):\n",
    "                        temp = np.copy(A[j])\n",
    "                        A[j] = np.copy(A[i])\n",
    "                        A[i] = np.copy(temp)\n",
    "            \n",
    "            if(not A[i,i] == 0):\n",
    "                #after exchange the position divided by the pivot value\n",
    "                A[i] = A[i]/A[i,i]\n",
    "            \n",
    "        for j in range(row):\n",
    "            if (not i==j and i < dim):\n",
    "                A[j] = A[j] - A[j,i]*A[i]\n",
    "                print(A)\n",
    "    return A\n",
    "        \n",
    "            \n",
    "print(gaussian_elim(A))\n"
   ]
  },
  {
   "cell_type": "code",
   "execution_count": 10,
   "metadata": {
    "scrolled": false
   },
   "outputs": [
    {
     "data": {
      "text/html": [
       "<div class=\"alert alert-block alert-success\">Gaussian elimination function looks good!</div>"
      ],
      "text/plain": [
       "<IPython.core.display.HTML object>"
      ]
     },
     "execution_count": 10,
     "metadata": {},
     "output_type": "execute_result"
    }
   ],
   "source": [
    "\n",
    "# test your gaussian_elim function\n",
    "def test_gaussian_elim():\n",
    "    for i in range(100):\n",
    "        m,n = np.random.randint(low=5,high=10,size=2)\n",
    "        a = np.random.randn(m,n)\n",
    "        sol1 = gaussian_elim(a)\n",
    "\n",
    "        sol2 = np.array(sp.Matrix(a).rref()[0])\n",
    "        if np.sum((sol1-sol2)**2) > 1e-6:\n",
    "            print (a,\"\\n\")\n",
    "            print (gaussian_elim(a),\"\\n\")\n",
    "            print (np.array(sp.Matrix(a).rref()[0]),\"\\n\")\n",
    "            return False\n",
    "    return True\n",
    "\n",
    "\n",
    "assert test_gaussian_elim(),\"Implementation incorrect!\"\n",
    "HTML('<div class=\"alert alert-block alert-success\">Gaussian elimination function looks good!</div>')"
   ]
  },
  {
   "cell_type": "markdown",
   "metadata": {},
   "source": [
    "---\n",
    "**Task 2.2**:  Comment on how you would tell if a square matrix is invertible by observing its reduced row-echelon form.\n",
    "\n",
    "---\n",
    "\n",
    "**Answer**: \n",
    "By checking if every row exists a pivot, if there exists a row without a pivot then it is invertible."
   ]
  },
  {
   "cell_type": "markdown",
   "metadata": {},
   "source": [
    "---\n",
    "**Task 2.3**:  Modify the gaussian elimination function to also perform similar row operations on the identity matrix to compute the inverse a square matrix $A$. The *compute_inverse* function should be according to following specifications: \n",
    "* Take as input any square matrix $A$.\n",
    "* Return:\n",
    "    - None if $A$ is non-invertible.\n",
    "    - $A^{-1}$ otherwise. \n",
    "\n",
    "---\n",
    "\n",
    "**HINT:** https://en.wikipedia.org/wiki/Gaussian_elimination#Finding_the_inverse_of_a_matrix"
   ]
  },
  {
   "cell_type": "code",
   "execution_count": 11,
   "metadata": {},
   "outputs": [],
   "source": [
    "# compute inverse using Gaussian-Jordan elimination\n",
    "def compute_inverse(A):\n",
    "    # YOUR CODE HERE\n",
    "    #row = col\n",
    "    row,col = A.shape\n",
    "    identity = np.identity(row)\n",
    "    A_ = np.c_[A,identity]\n",
    "    A_row,A_col = A_.shape\n",
    "    for i in range(col):\n",
    "        if (abs(A_[i,i]) < 1e-10):\n",
    "            haspivot = False\n",
    "            for j in range(i+1,row):\n",
    "                if (not abs(A_[j,i]) < 1e-10):\n",
    "                    haspivot = True\n",
    "                    temp = np.copy(A_[j])\n",
    "                    A_[j] = np.copy(A_[i])\n",
    "                    A_[i] = np.copy(temp)\n",
    "                    \n",
    "            if (not haspivot):\n",
    "                return None\n",
    "            \n",
    "        if(not abs(A_[i,i]) < 1e-10):\n",
    "            #after exchange the position divided by the pivot value\n",
    "            A_[i] = A_[i]/A_[i,i]\n",
    "            \n",
    "        for j in range(row):\n",
    "            if (not i==j):\n",
    "                A_[j] = A_[j] - A_[j,i]*A_[i]\n",
    "                \n",
    "    A_inv = A_[:,A_col//2:]\n",
    "#     print(A_[:,:A_col//2])\n",
    "#     print(A_inv@A)\n",
    "    return A_inv\n"
   ]
  },
  {
   "cell_type": "code",
   "execution_count": 12,
   "metadata": {
    "scrolled": true
   },
   "outputs": [
    {
     "data": {
      "text/html": [
       "<div class=\"alert alert-block alert-success\">compute inverse function looks good!</div>"
      ],
      "text/plain": [
       "<IPython.core.display.HTML object>"
      ]
     },
     "execution_count": 12,
     "metadata": {},
     "output_type": "execute_result"
    }
   ],
   "source": [
    "# test the inverse function\n",
    "def test_compute_inverse():\n",
    "    # separate check when A is non-invertible\n",
    "    A = np.array([[2, 1], [4, 2]])\n",
    "    A_inv = compute_inverse(A)\n",
    "    assert A_inv is None,\"Inverse should be None, if A is non-invertible\"\n",
    "    \n",
    "    for i in range(1000):\n",
    "        m = np.random.randint(low=5,high=10)\n",
    "        A = np.random.randint(low=0,high=10,size=(m,m))\n",
    "        A_inv = compute_inverse(A)\n",
    "        if A_inv is None:\n",
    "            if abs(np.linalg.det(A)) > 1e-6:\n",
    "                print (\"A: \\n{}\\n\".format(A))\n",
    "                print (\"A_inv: \\n{}\\n\".format(A_inv))\n",
    "                return False\n",
    "        elif not np.sum(np.abs(A@A_inv - np.eye(A.shape[0]))) < 1e-6:\n",
    "            print (\"A: \\n{}\\n\".format(A))\n",
    "            print (\"A_inv: \\n{}\\n\".format(A_inv))\n",
    "            return False\n",
    "    return True\n",
    "\n",
    "assert test_compute_inverse(),\"Inverse is not correct\"\n",
    "HTML('<div class=\"alert alert-block alert-success\">compute inverse function looks good!</div>')"
   ]
  },
  {
   "cell_type": "markdown",
   "metadata": {},
   "source": [
    "## Task 3: Geometrical intuition for system of linear equations\n",
    "\n",
    "---\n",
    "\n",
    "In this task we will develop a geometrical intuition for solving the system of linear equations:\n",
    "\n",
    "$$AX=B$$\n",
    "\n",
    "where if you recall from before:\n",
    "\n",
    "$$A = \\begin{bmatrix}\n",
    "a_{11} & \\dots & a_{1d}\\\\\n",
    "\\vdots & \\ddots & \\vdots \\\\\n",
    "a_{n1} & \\dots & a_{nd}\n",
    "\\end{bmatrix}, \\quad\n",
    "B = \\begin{bmatrix}\n",
    "b_1 \\\\ \\vdots \\\\ b_n\n",
    "\\end{bmatrix}, \\quad\n",
    "X = \\begin{bmatrix}\n",
    "x_1 \\\\ \\vdots \\\\ x_d\n",
    "\\end{bmatrix}.\n",
    "$$\n",
    "\n",
    "This can also be written as:\n",
    "$$\n",
    "\\begin{bmatrix}\n",
    "a_{11} \\\\ \\vdots \\\\ a_{n1}\n",
    "\\end{bmatrix} \\ x_1\n",
    "+ \n",
    "\\begin{bmatrix}\n",
    "a_{12} \\\\ \\vdots \\\\ a_{n2}\n",
    "\\end{bmatrix} \\ x_2\n",
    "+ \\dots\n",
    "\\begin{bmatrix}\n",
    "a_{1d} \\\\ \\vdots \\\\ a_{nd}\n",
    "\\end{bmatrix} \\ x_d\n",
    "= \\begin{bmatrix}\n",
    "b_1 \\\\ \\vdots \\\\ b_n\n",
    "\\end{bmatrix}\n",
    "$$\n",
    "\n",
    "Thats is, solving the system of linear equations $AX=B$ is equivalent to finding a linear combination of the column vectors of matrix $A$, that result in $B$."
   ]
  },
  {
   "cell_type": "markdown",
   "metadata": {},
   "source": [
    "---\n",
    "**Task 3.1**: Given a matrix $A$ of shape (2 X 2), generate a plot containing arrows representing the column vectors of $A$.\n",
    "\n",
    "---\n",
    "**HINTS:** \n",
    "\n",
    "- For $A=I$, the plot should look something like:\n",
    "![title](https://upload.cc/i1/2019/08/01/LqQUbB.png)\n",
    "- You'll need to use plt.quiver() with angles='xy', scale_units='xy' and scale=1. \n",
    "    - https://matplotlib.org/3.1.1/api/_as_gen/matplotlib.pyplot.quiver.html\n",
    "- You'll need use '*origin' as the origin of the quiver plot, including the asterix."
   ]
  },
  {
   "cell_type": "code",
   "execution_count": 13,
   "metadata": {},
   "outputs": [
    {
     "data": {
      "image/png": "[encoded data removed]",
      "text/plain": [
       "<Figure size 432x288 with 1 Axes>"
      ]
     },
     "metadata": {
      "needs_background": "light"
     },
     "output_type": "display_data"
    }
   ],
   "source": [
    "origin = [0], [0]\n",
    "\n",
    "A = np.array([[2, 3], [0, 1]])\n",
    "\n",
    "#YOUR CODE HERE\n",
    "X = origin[0]+origin[1]\n",
    "Y = origin[0]+origin[1]\n",
    "\n",
    "plt.quiver(X,Y,A[0,:],A[1,:],angles='xy', scale_units='xy', scale=1.)\n",
    "\n",
    "plt.xlim([-5,5])\n",
    "plt.ylim([-5,5])\n",
    "plt.title('Visualising coloumn vectors of a matrix')\n",
    "plt.show()"
   ]
  },
  {
   "cell_type": "markdown",
   "metadata": {},
   "source": [
    "---\n",
    "**Task 3.2**: To the above plot, now add an arrow (with different color) representing vector $B$. While doing so remember to:\n",
    "* Assign different labels to the arrows for matrix $A$ and $B$, using the keyword `label=A` or `label=B`.\n",
    "* Display the appropriate legend, with proper labels. Read more: https://matplotlib.org/api/_as_gen/matplotlib.pyplot.legend.html\n",
    "* Assign colored arrows for matrix $A$ as `color=red` and arrow for vector $B$ as `color=blue`\n",
    "---"
   ]
  },
  {
   "cell_type": "code",
   "execution_count": 14,
   "metadata": {},
   "outputs": [
    {
     "data": {
      "image/png": "[encoded data removed]",
      "text/plain": [
       "<Figure size 432x288 with 1 Axes>"
      ]
     },
     "metadata": {
      "needs_background": "light"
     },
     "output_type": "display_data"
    }
   ],
   "source": [
    "origin = [0], [0]\n",
    "\n",
    "A = np.array([[2, 3], [0, 4]])\n",
    "B = np.array([[3], [3]])\n",
    "\n",
    "X = origin[0] + origin[1]\n",
    "Y = origin[0] + origin[1]\n",
    "#YOUR CODE HERE\n",
    "plt.quiver(X,Y,A[0,:],A[1,:],angles='xy', scale_units='xy', scale=1.,label = 'A',color = 'red')\n",
    "plt.quiver(X,Y,B[0,:],B[0,:],angles='xy', scale_units='xy', scale=1.,label = 'B',color = 'blue')\n",
    "plt.xlim([-5,5])\n",
    "plt.ylim([-5,5])\n",
    "plt.legend(loc = \"best\")\n",
    "plt.title('Visualising coloumn vectors of a matrix')\n",
    "plt.show()"
   ]
  },
  {
   "cell_type": "markdown",
   "metadata": {},
   "source": [
    "The above plot should convey a more intuitve picture than the simply looking at $AX=B$. Let's test our intuition!\n",
    "\n",
    "---\n",
    "**Task 3.3**: Without calculating, for $X = [x_1 \\ x_2]^T$, analytically comment on the magnitude of $x_1$ and $x_2$. That is choose one of the following:\n",
    "1. $|x_1| > |x_2|$\n",
    "2. $|x_1| < |x_2|$\n",
    "3. $|x_1| \\approx |x_2|$\n",
    "\n",
    "---\n",
    "\n",
    "**Answer**"
   ]
  },
  {
   "cell_type": "markdown",
   "metadata": {},
   "source": [
    "2.$|x_1| < |x_2|$"
   ]
  },
  {
   "cell_type": "markdown",
   "metadata": {},
   "source": [
    "## Task 4: Gram-Schmidt orthogonalization\n",
    "\n",
    "The Gram-Schmidt algorithm is used for finding an orthonormal basis for the subspace spanned by a set of vectors.\n",
    "\n",
    "---\n",
    "**Read more:** https://en.wikipedia.org/wiki/Gram–Schmidt_process"
   ]
  },
  {
   "cell_type": "markdown",
   "metadata": {},
   "source": [
    "---\n",
    "**Task 4.1**: Given two linearly independent but non-orthogonal vectors $u_1,u_2$, write down the equations for computing the orthogonal basis $\\{v_1,v_2\\}$ for subspace covered by $\\{u_1,u_2\\}$.\n",
    "\n",
    "---\n",
    "\n",
    "**Answer** "
   ]
  },
  {
   "cell_type": "markdown",
   "metadata": {},
   "source": [
    "$v_1$ = $u_1$ <br/>\n",
    "$v_2$ = $u_2 - proj_{v_1}u_2$ = $u_2 - \\frac{<u_2,v_1>}{<v_1,v_1>}v_1$"
   ]
  },
  {
   "cell_type": "markdown",
   "metadata": {},
   "source": [
    "---\n",
    "**Task 4.2**: Briefly show that $v_1, v_2$ are orthogonal.\n",
    "\n",
    "---\n",
    "\n",
    "**Answer**\n",
    "\n",
    "As $\\frac{<u_2,v_1>}{<v_1,v_1>}v_1$ projects the vector $u_2$ orthogonally onto the line spanned by vector $v_1$. The projection is closet to $v_1$ which indicates the distance of $u_2 - \\frac{<u_2,v_1>}{<v_1,v_1>}v_1$ ($v_2$) is minimal. It follows that $v_1,v_2$ are orthogonal."
   ]
  },
  {
   "cell_type": "markdown",
   "metadata": {},
   "source": [
    "---\n",
    "**Task 4.3**: Implement a function that finds an orthonormal basis of column vectors for matrix $A$. The *gram_schmidt* function should be according to following specifications: \n",
    "* Take as input any matrix $A$.\n",
    "* Return a matrix with the orthonormal basis vectors as the columns.\n",
    "\n",
    "---\n",
    "**NOTE**: The resulting basis should be orthonormal, so each basis vector should be of norm 1."
   ]
  },
  {
   "cell_type": "code",
   "execution_count": 18,
   "metadata": {},
   "outputs": [
    {
     "name": "stdout",
     "output_type": "stream",
     "text": [
      "[[ 0.40824829  0.70710678]\n",
      " [ 0.40824829 -0.70710678]\n",
      " [ 0.81649658  0.        ]]\n"
     ]
    }
   ],
   "source": [
    "from math import *\n",
    "import numpy as np\n",
    "# Find orthonormal basis using gram-schmidt \n",
    "A = np.array([[1/sqrt(6),1/sqrt(6),2/sqrt(6)],[1/sqrt(2),-1/sqrt(2),0]]).T\n",
    "def gram_schmidt(A):\n",
    "    row,col = A.shape\n",
    "    # YOUR CODE HERE\n",
    "    v_1 = A[:,0]\n",
    "    orthognal_basis = np.array([v_1]).T\n",
    "    u_1 = v_1\n",
    "    orthonormal_basis = np.array([mathsqrt([u_1])*u_1]).T\n",
    "    for i in range(1,col):\n",
    "        v_j = A[:,i]\n",
    "        u_jn = np.copy(v_j)\n",
    "        for j in range(orthognal_basis.shape[1]):\n",
    "            u_j = orthognal_basis[:,j]\n",
    "            if (np.any(u_j)):\n",
    "                u_jn = u_jn - (v_j.T@u_j)/(u_j.T@u_j)*u_j\n",
    "#             else:\n",
    "#                 u_jn = np.zeros(col)\n",
    "        for k in range((u_jn).shape[0]):\n",
    "            if(abs(u_jn[k]) < 1e-6):\n",
    "                u_jn[k] = 0\n",
    "                \n",
    "        if (np.any(u_jn)):\n",
    "            orthognal_basis = np.c_[orthognal_basis,u_jn]\n",
    "            orthonormal_basis = np.c_[orthonormal_basis,mathsqrt(u_jn)*u_jn]\n",
    "    return np.array(orthonormal_basis)\n",
    "\n",
    "def mathsqrt(B):\n",
    "#     print(np.sum(np.square(B)))\n",
    "    return 1/math.sqrt(np.sum(np.square(B)))\n",
    "\n",
    "print(gram_schmidt(A))"
   ]
  },
  {
   "cell_type": "code",
   "execution_count": 15,
   "metadata": {},
   "outputs": [
    {
     "ename": "NameError",
     "evalue": "name 'HTML' is not defined",
     "output_type": "error",
     "traceback": [
      "\u001b[1;31m---------------------------------------------------------------------------\u001b[0m",
      "\u001b[1;31mNameError\u001b[0m                                 Traceback (most recent call last)",
      "\u001b[1;32m<ipython-input-15-ce51cd49f0c6>\u001b[0m in \u001b[0;36m<module>\u001b[1;34m\u001b[0m\n\u001b[0;32m     18\u001b[0m \u001b[1;33m\u001b[0m\u001b[0m\n\u001b[0;32m     19\u001b[0m \u001b[1;32massert\u001b[0m \u001b[0mtest_gram_schmidt\u001b[0m\u001b[1;33m(\u001b[0m\u001b[1;33m)\u001b[0m\u001b[1;33m,\u001b[0m\u001b[1;34m\"Resulting basis vectors are not orthonormal!\"\u001b[0m\u001b[1;33m\u001b[0m\u001b[1;33m\u001b[0m\u001b[0m\n\u001b[1;32m---> 20\u001b[1;33m \u001b[0mHTML\u001b[0m\u001b[1;33m(\u001b[0m\u001b[1;34m'<div class=\"alert alert-block alert-success\">Gram-schmidt orthogonalization function looks good!</div>'\u001b[0m\u001b[1;33m)\u001b[0m\u001b[1;33m\u001b[0m\u001b[1;33m\u001b[0m\u001b[0m\n\u001b[0m",
      "\u001b[1;31mNameError\u001b[0m: name 'HTML' is not defined"
     ]
    }
   ],
   "source": [
    "def orthonormality_checker(A):    \n",
    "    # check orthonormality: for an orthonormal matrix A.T@A = I\n",
    "    is_orthogonal = (np.sum(np.abs((A.T@A - np.eye(A.shape[1]))**2)) < 1e-6)\n",
    "    return is_orthogonal\n",
    "\n",
    "\n",
    "# test gaussian_elim function\n",
    "def test_gram_schmidt():\n",
    "    for i in range(100):\n",
    "        m,n = np.random.randint(low=5,high=10,size=2)\n",
    "        a = np.random.randint(low=0,high=10,size=(m,n))\n",
    "        orthonormal_basis = gram_schmidt(a)\n",
    "        if not orthonormality_checker(orthonormal_basis):\n",
    "            # display the matrix for which the method fails\n",
    "            print (a,\"\\n\")\n",
    "            return False\n",
    "    return True\n",
    "\n",
    "assert test_gram_schmidt(),\"Resulting basis vectors are not orthonormal!\"\n",
    "HTML('<div class=\"alert alert-block alert-success\">Gram-schmidt orthogonalization function looks good!</div>')"
   ]
  },
  {
   "cell_type": "markdown",
   "metadata": {},
   "source": [
    "---\n",
    "**END OF ASSIGNMENT**\n",
    "___"
   ]
  }
 ],
 "metadata": {
  "kernelspec": {
   "display_name": "Python 3",
   "language": "python",
   "name": "python3"
  },
  "language_info": {
   "codemirror_mode": {
    "name": "ipython",
    "version": 3
   },
   "file_extension": ".py",
   "mimetype": "text/x-python",
   "name": "python",
   "nbconvert_exporter": "python",
   "pygments_lexer": "ipython3",
   "version": "3.7.2"
  }
 },
 "nbformat": 4,
 "nbformat_minor": 2
}
